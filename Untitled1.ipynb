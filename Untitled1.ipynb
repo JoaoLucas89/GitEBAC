{
  "nbformat": 4,
  "nbformat_minor": 0,
  "metadata": {
    "colab": {
      "provenance": []
    },
    "kernelspec": {
      "name": "python3",
      "display_name": "Python 3"
    },
    "language_info": {
      "name": "python"
    }
  },
  "cells": [
    {
      "cell_type": "code",
      "execution_count": null,
      "metadata": {
        "id": "qwkI3Fcx6cfY"
      },
      "outputs": [],
      "source": [
        "valor1 = input(\"Por favor, digite um número:\\n\")\n",
        "numero1 = int(valor1)  # Converte para inteiro\n",
        "\n",
        "valor2 = input(\"Por favor, digite outro número:\\n\")\n",
        "numero2 = int(valor2)  # Converte para inteiro\n",
        "\n",
        "op = input(\"Digite a operação desejada: + ou -\\n\")\n",
        "\n",
        "if op == \"+\":  # Comparação correta\n",
        "    soma = numero1 + numero2\n",
        "    print(f\"Resultado da soma: {soma}\")\n",
        "elif op == \"-\":  # Comparação correta\n",
        "    sub = numero1 - numero2\n",
        "    print(f\"Resultado da subtração: {sub}\")\n",
        "else:\n",
        "    print(\"Erro: Digite uma operação válida (+ ou -)!\")"
      ]
    }
  ]
}